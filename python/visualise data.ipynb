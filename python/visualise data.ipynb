{
 "cells": [
  {
   "cell_type": "code",
   "execution_count": 32,
   "metadata": {},
   "outputs": [],
   "source": [
    "import matplotlib.pyplot as plt\n",
    "import pandas as pd\n",
    "import numpy as np\n",
    "\n",
    "from sklearn.decomposition import PCA as sklearnPCA\n",
    "from sklearn.manifold import TSNE\n",
    "from sklearn.decomposition import TruncatedSVD"
   ]
  },
  {
   "cell_type": "markdown",
   "metadata": {},
   "source": [
    "#### data"
   ]
  },
  {
   "cell_type": "code",
   "execution_count": 33,
   "metadata": {},
   "outputs": [
    {
     "name": "stdout",
     "output_type": "stream",
     "text": [
      "(27, 3)\n"
     ]
    },
    {
     "data": {
      "text/html": [
       "<div>\n",
       "<style scoped>\n",
       "    .dataframe tbody tr th:only-of-type {\n",
       "        vertical-align: middle;\n",
       "    }\n",
       "\n",
       "    .dataframe tbody tr th {\n",
       "        vertical-align: top;\n",
       "    }\n",
       "\n",
       "    .dataframe thead th {\n",
       "        text-align: right;\n",
       "    }\n",
       "</style>\n",
       "<table border=\"1\" class=\"dataframe\">\n",
       "  <thead>\n",
       "    <tr style=\"text-align: right;\">\n",
       "      <th></th>\n",
       "      <th>3260</th>\n",
       "      <th>3740</th>\n",
       "      <th>label</th>\n",
       "    </tr>\n",
       "  </thead>\n",
       "  <tbody>\n",
       "    <tr>\n",
       "      <th>0</th>\n",
       "      <td>0.377380</td>\n",
       "      <td>0.350263</td>\n",
       "      <td>foreign</td>\n",
       "    </tr>\n",
       "    <tr>\n",
       "      <th>1</th>\n",
       "      <td>1.000000</td>\n",
       "      <td>1.000000</td>\n",
       "      <td>foreign</td>\n",
       "    </tr>\n",
       "    <tr>\n",
       "      <th>2</th>\n",
       "      <td>0.103569</td>\n",
       "      <td>0.076622</td>\n",
       "      <td>foreign</td>\n",
       "    </tr>\n",
       "    <tr>\n",
       "      <th>3</th>\n",
       "      <td>0.123360</td>\n",
       "      <td>0.100022</td>\n",
       "      <td>foreign</td>\n",
       "    </tr>\n",
       "    <tr>\n",
       "      <th>4</th>\n",
       "      <td>0.187139</td>\n",
       "      <td>0.159135</td>\n",
       "      <td>foreign</td>\n",
       "    </tr>\n",
       "  </tbody>\n",
       "</table>\n",
       "</div>"
      ],
      "text/plain": [
       "       3260      3740    label\n",
       "0  0.377380  0.350263  foreign\n",
       "1  1.000000  1.000000  foreign\n",
       "2  0.103569  0.076622  foreign\n",
       "3  0.123360  0.100022  foreign\n",
       "4  0.187139  0.159135  foreign"
      ]
     },
     "execution_count": 33,
     "metadata": {},
     "output_type": "execute_result"
    }
   ],
   "source": [
    "data = pd.read_csv('C:\\\\KinectData\\\\converted\\\\top_features_rus-eng.csv')\n",
    "\n",
    "x = data.drop('label', axis=1)\n",
    "y = data['label']\n",
    "\n",
    "print(data.shape)\n",
    "data.head()"
   ]
  },
  {
   "cell_type": "markdown",
   "metadata": {},
   "source": [
    "#### scatter"
   ]
  },
  {
   "cell_type": "code",
   "execution_count": 34,
   "metadata": {
    "scrolled": true
   },
   "outputs": [],
   "source": [
    "def plot(dataset):\n",
    "    dataset[dataset.columns[-1]] = pd.factorize(dataset.values[:,-1])[0]\n",
    "    data_f = dataset[dataset[dataset.columns[-1]] == 0]\n",
    "    data_n = dataset[dataset[dataset.columns[-1]] == 1]\n",
    "    cs = data_f.columns\n",
    "    n = len(data_f.columns)-1\n",
    "\n",
    "    if n == 2:\n",
    "        plt.scatter(data_f[cs[0]],data_f[cs[1]],c='r')\n",
    "        plt.scatter(data_n[cs[0]],data_n[cs[1]],c='b')\n",
    "    elif n == 3:\n",
    "        ax = plt.figure().add_subplot(111, projection='3d')\n",
    "\n",
    "        ax.scatter(data_f[cs[0]],data_f[cs[1]],data_f[cs[2]],c='r')\n",
    "        ax.scatter(data_n[cs[0]],data_n[cs[1]],data_n[cs[2]],c='b')\n",
    "    else:\n",
    "        print('<2 or >3 dimensions')\n",
    "    plt.show()"
   ]
  },
  {
   "cell_type": "code",
   "execution_count": 35,
   "metadata": {},
   "outputs": [
    {
     "data": {
      "image/png": "[encoded data removed]",
      "text/plain": [
       "<Figure size 432x288 with 1 Axes>"
      ]
     },
     "metadata": {},
     "output_type": "display_data"
    }
   ],
   "source": [
    "plot(data)"
   ]
  }
 ],
 "metadata": {
  "kernelspec": {
   "display_name": "Python 3",
   "language": "python",
   "name": "python3"
  },
  "language_info": {
   "codemirror_mode": {
    "name": "ipython",
    "version": 3
   },
   "file_extension": ".py",
   "mimetype": "text/x-python",
   "name": "python",
   "nbconvert_exporter": "python",
   "pygments_lexer": "ipython3",
   "version": "3.6.5"
  }
 },
 "nbformat": 4,
 "nbformat_minor": 2
}
